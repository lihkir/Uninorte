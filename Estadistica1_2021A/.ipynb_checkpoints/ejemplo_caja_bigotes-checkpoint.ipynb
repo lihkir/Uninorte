{
 "cells": [
  {
   "cell_type": "markdown",
   "metadata": {},
   "source": [
    "# Diagrama de Caja y Bigotes "
   ]
  },
  {
   "cell_type": "markdown",
   "metadata": {},
   "source": [
    "<b> Universidad del Norte, Departamento de Matemáticas y Estadística <br>\n",
    "Profesor:<b> Lihki Rubio"
   ]
  },
  {
   "cell_type": "markdown",
   "metadata": {},
   "source": [
    "1. Librerias a importar:"
   ]
  },
  {
   "cell_type": "code",
   "execution_count": 1,
   "metadata": {},
   "outputs": [],
   "source": [
    "import pandas as pd \n",
    "from numpy.random import seed\n",
    "from numpy.random import randn\n",
    "import seaborn as sns\n",
    "sns.set_theme(style=\"whitegrid\")"
   ]
  },
  {
   "cell_type": "markdown",
   "metadata": {},
   "source": [
    "2. Ejemplo random:"
   ]
  },
  {
   "cell_type": "code",
   "execution_count": 2,
   "metadata": {},
   "outputs": [
    {
     "data": {
      "image/png": "[encoded data removed]",
      "text/plain": [
       "<Figure size 432x288 with 1 Axes>"
      ]
     },
     "metadata": {
      "needs_background": "light"
     },
     "output_type": "display_data"
    }
   ],
   "source": [
    "seed(1)\n",
    "x=[randn(1000), 5*randn(100), 10*randn(1000)]\n",
    "ax=sns.boxplot(data=x)"
   ]
  },
  {
   "cell_type": "markdown",
   "metadata": {},
   "source": [
    "3. Cargando Tecnoglass Data:"
   ]
  },
  {
   "cell_type": "code",
   "execution_count": 3,
   "metadata": {},
   "outputs": [
    {
     "name": "stdout",
     "output_type": "stream",
     "text": [
      "            Date  Open   High   Low  Close  Adj Close  Volume\n",
      "0     2012-05-10  9.97  10.00  9.50   9.80   7.945550    6900\n",
      "1     2012-05-11  9.70   9.70  9.70   9.70   7.864471     300\n",
      "2     2012-05-14  9.80   9.80  9.80   9.80   7.945550     100\n",
      "3     2012-05-15  9.75   9.75  9.75   9.75   7.905012     300\n",
      "4     2012-05-16  9.75   9.75  9.75   9.75   7.905012       0\n",
      "...          ...   ...    ...   ...    ...        ...     ...\n",
      "2195  2021-02-01  6.83   7.08  6.80   7.00   7.000000   46500\n",
      "2196  2021-02-02  7.07   7.13  6.97   7.02   7.020000   27700\n",
      "2197  2021-02-03  7.09   7.11  6.90   7.07   7.070000   58400\n",
      "2198  2021-02-04  7.03   7.20  7.03   7.15   7.150000   63700\n",
      "2199  2021-02-05  7.20   7.20  7.04   7.15   7.150000   47400\n",
      "\n",
      "[2200 rows x 7 columns]\n"
     ]
    }
   ],
   "source": [
    "csv_data = pd.read_csv(\"C:\\\\Users\\\\likyb\\\\Documents\\\\GitHub\\\\Uninorte\\\\Estadística1_2021A\\\\TGLS.csv\")\n",
    "print(csv_data)"
   ]
  },
  {
   "cell_type": "markdown",
   "metadata": {},
   "source": [
    "4. Seleccionando columna Open y graficando Diagrama de Caja y Bigotes:"
   ]
  },
  {
   "cell_type": "code",
   "execution_count": 4,
   "metadata": {},
   "outputs": [
    {
     "data": {
      "image/png": "[encoded data removed]",
      "text/plain": [
       "<Figure size 432x288 with 1 Axes>"
      ]
     },
     "metadata": {
      "needs_background": "light"
     },
     "output_type": "display_data"
    }
   ],
   "source": [
    "OpenList = csv_data.Open.tolist()\n",
    "ax=sns.boxplot(x=OpenList)"
   ]
  },
  {
   "cell_type": "code",
   "execution_count": 16,
   "metadata": {},
   "outputs": [
    {
     "data": {
      "image/png": "[encoded data removed]",
      "text/plain": [
       "<Figure size 432x288 with 1 Axes>"
      ]
     },
     "metadata": {
      "needs_background": "light"
     },
     "output_type": "display_data"
    }
   ],
   "source": [
    "EjeData=[47, 52, 52, 57, 58, 58, 60, 65, 66, 66, 71, 71, 72, 73, 96]\n",
    "ax=sns.boxplot(x=EjeData)"
   ]
  }
 ],
 "metadata": {
  "kernelspec": {
   "display_name": "Python 3",
   "language": "python",
   "name": "python3"
  },
  "language_info": {
   "codemirror_mode": {
    "name": "ipython",
    "version": 3
   },
   "file_extension": ".py",
   "mimetype": "text/x-python",
   "name": "python",
   "nbconvert_exporter": "python",
   "pygments_lexer": "ipython3",
   "version": "3.7.6"
  }
 },
 "nbformat": 4,
 "nbformat_minor": 4
}
