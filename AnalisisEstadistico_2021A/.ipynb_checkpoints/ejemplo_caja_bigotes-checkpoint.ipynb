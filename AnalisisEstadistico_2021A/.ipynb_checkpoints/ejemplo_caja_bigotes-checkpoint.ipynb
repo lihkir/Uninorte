{
 "cells": [
  {
   "cell_type": "markdown",
   "metadata": {},
   "source": [
    "# Diagrama de Caja y Bigotes "
   ]
  },
  {
   "cell_type": "markdown",
   "metadata": {},
   "source": [
    "<b> Universidad del Norte, Departamento de Matemáticas y Estadística <br>\n",
    "Profesor:<b> Lihki Rubio"
   ]
  },
  {
   "cell_type": "markdown",
   "metadata": {},
   "source": [
    "1. Librerias a importar:"
   ]
  },
  {
   "cell_type": "code",
   "execution_count": 1,
   "metadata": {},
   "outputs": [],
   "source": [
    "import pandas as pd \n",
    "from numpy.random import seed\n",
    "from numpy.random import randn\n",
    "import seaborn as sns\n",
    "sns.set_theme(style=\"whitegrid\")"
   ]
  },
  {
   "cell_type": "markdown",
   "metadata": {},
   "source": [
    "2. Ejemplo random:"
   ]
  },
  {
   "cell_type": "code",
   "execution_count": 2,
   "metadata": {},
   "outputs": [
    {
     "data": {
      "image/png": "[encoded data removed]",
      "text/plain": [
       "<Figure size 432x288 with 1 Axes>"
      ]
     },
     "metadata": {
      "needs_background": "light"
     },
     "output_type": "display_data"
    }
   ],
   "source": [
    "seed(1)\n",
    "x=[randn(1000), 5*randn(100), 10*randn(1000)]\n",
    "ax=sns.boxplot(data=x)"
   ]
  },
  {
   "cell_type": "markdown",
   "metadata": {},
   "source": [
    "3. Cargando Tecnoglass Data:"
   ]
  },
  {
   "cell_type": "code",
   "execution_count": 3,
   "metadata": {},
   "outputs": [
    {
     "name": "stdout",
     "output_type": "stream",
     "text": [
      "    Year  Month   Day  TSU   EQ                    Name              Location  \\\n",
      "0   2010      1   NaN  NaN  NaN              Tungurahua               Ecuador   \n",
      "1   2010      3  31.0  NaN  NaN        Eyjafjallajokull             Iceland-S   \n",
      "2   2010      5  27.0  NaN  NaN                  Pacaya             Guatemala   \n",
      "3   2010      5  29.0  TSU   EQ                 Sarigan  Mariana Is-C Pacific   \n",
      "4   2010      8   6.0  NaN  NaN  Karangetang [Api Siau]  Sangihe Is-Indonesia   \n",
      "..   ...    ...   ...  ...  ...                     ...                   ...   \n",
      "58  2018      2   1.0  NaN  NaN                 Kilauea           Hawaiian Is   \n",
      "59  2018      2   9.0  TSU  NaN                 Kadovar      New Guinea-NE of   \n",
      "60  2018      3  21.0  NaN  NaN                    Ijen                  Java   \n",
      "61  2018      4  28.0  NaN  NaN                 Kilauea           Hawaiian Is   \n",
      "62  2018      4   NaN  NaN  NaN                    Aoba    Vanuatu-SW Pacific   \n",
      "\n",
      "             Country  Latitude  Longitude  ...  TOTAL_DEATHS  \\\n",
      "0            Ecuador    -1.467    -78.442  ...           NaN   \n",
      "1            Iceland    63.630    -19.620  ...           2.0   \n",
      "2          Guatemala    14.381    -90.601  ...           1.0   \n",
      "3      United States    16.708    145.780  ...           NaN   \n",
      "4          Indonesia     2.780    125.480  ...           4.0   \n",
      "..               ...       ...        ...  ...           ...   \n",
      "58     United States    19.425   -155.292  ...           1.0   \n",
      "59  Papua New Guinea    -3.620    144.620  ...           NaN   \n",
      "60         Indonesia    -8.058    114.242  ...           NaN   \n",
      "61     United States    19.425   -155.292  ...           NaN   \n",
      "62           Vanuatu   -15.400    167.830  ...           4.0   \n",
      "\n",
      "   TOTAL_DEATHS_DESCRIPTION TOTAL_MISSING TOTAL_MISSING_DESCRIPTION  \\\n",
      "0                       NaN           NaN                       NaN   \n",
      "1                       1.0           NaN                       NaN   \n",
      "2                       1.0           3.0                       1.0   \n",
      "3                       NaN           NaN                       NaN   \n",
      "4                       1.0           NaN                       NaN   \n",
      "..                      ...           ...                       ...   \n",
      "58                      1.0           NaN                       NaN   \n",
      "59                      NaN           NaN                       NaN   \n",
      "60                      NaN           NaN                       NaN   \n",
      "61                      NaN           NaN                       NaN   \n",
      "62                      1.0           NaN                       NaN   \n",
      "\n",
      "    TOTAL_INJURIES TOTAL_INJURIES_DESCRIPTION  TOTAL_DAMAGE_MILLIONS_DOLLARS  \\\n",
      "0              NaN                        NaN                            NaN   \n",
      "1              NaN                        NaN                            NaN   \n",
      "2              NaN                        NaN                            NaN   \n",
      "3              NaN                        NaN                            NaN   \n",
      "4              5.0                        1.0                            NaN   \n",
      "..             ...                        ...                            ...   \n",
      "58             3.0                        1.0                            NaN   \n",
      "59             NaN                        NaN                            NaN   \n",
      "60            30.0                        1.0                            NaN   \n",
      "61             NaN                        NaN                            NaN   \n",
      "62             NaN                        NaN                            NaN   \n",
      "\n",
      "    TOTAL_DAMAGE_DESCRIPTION  TOTAL_HOUSES_DESTROYED  \\\n",
      "0                        1.0                     NaN   \n",
      "1                        NaN                     NaN   \n",
      "2                        1.0                     3.0   \n",
      "3                        NaN                     NaN   \n",
      "4                        NaN                     NaN   \n",
      "..                       ...                     ...   \n",
      "58                       NaN                     NaN   \n",
      "59                       NaN                     NaN   \n",
      "60                       NaN                     NaN   \n",
      "61                       1.0                     2.0   \n",
      "62                       1.0                     NaN   \n",
      "\n",
      "    TOTAL_HOUSES_DESTROYED_DESCRIPTION  \n",
      "0                                  NaN  \n",
      "1                                  NaN  \n",
      "2                                  1.0  \n",
      "3                                  NaN  \n",
      "4                                  1.0  \n",
      "..                                 ...  \n",
      "58                                 NaN  \n",
      "59                                 NaN  \n",
      "60                                 NaN  \n",
      "61                                 1.0  \n",
      "62                                 1.0  \n",
      "\n",
      "[63 rows x 36 columns]\n"
     ]
    }
   ],
   "source": [
    "csv_data = pd.read_csv(\"C:\\\\Users\\\\likyb\\\\Documents\\\\GitHub\\\\Uninorte\\\\AnalisisEstadistico_2021A\\\\volcano_data_2010.csv\")\n",
    "print(csv_data)"
   ]
  },
  {
   "cell_type": "markdown",
   "metadata": {},
   "source": [
    "4. Seleccionando columna Open y graficando Diagrama de Caja y Bigotes:"
   ]
  },
  {
   "cell_type": "code",
   "execution_count": 5,
   "metadata": {},
   "outputs": [
    {
     "data": {
      "image/png": "[encoded data removed]",
      "text/plain": [
       "<Figure size 432x288 with 1 Axes>"
      ]
     },
     "metadata": {
      "needs_background": "light"
     },
     "output_type": "display_data"
    }
   ],
   "source": [
    "LatitudeList = csv_data.Latitude.tolist()\n",
    "ax=sns.boxplot(x=LatitudeList)"
   ]
  },
  {
   "cell_type": "markdown",
   "metadata": {},
   "source": [
    "5. Ejemplo Página 135 Notas de Clases"
   ]
  },
  {
   "cell_type": "code",
   "execution_count": 6,
   "metadata": {},
   "outputs": [
    {
     "data": {
      "image/png": "[encoded data removed]",
      "text/plain": [
       "<Figure size 432x288 with 1 Axes>"
      ]
     },
     "metadata": {
      "needs_background": "light"
     },
     "output_type": "display_data"
    }
   ],
   "source": [
    "EjeData=[47, 52, 52, 57, 58, 58, 60, 65, 66, 66, 71, 71, 72, 73, 96]\n",
    "ax=sns.boxplot(x=EjeData)"
   ]
  }
 ],
 "metadata": {
  "kernelspec": {
   "display_name": "Python 3",
   "language": "python",
   "name": "python3"
  },
  "language_info": {
   "codemirror_mode": {
    "name": "ipython",
    "version": 3
   },
   "file_extension": ".py",
   "mimetype": "text/x-python",
   "name": "python",
   "nbconvert_exporter": "python",
   "pygments_lexer": "ipython3",
   "version": "3.7.6"
  }
 },
 "nbformat": 4,
 "nbformat_minor": 4
}
